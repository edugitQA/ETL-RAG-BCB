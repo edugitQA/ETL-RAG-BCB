{
 "cells": [
  {
   "cell_type": "code",
   "execution_count": null,
   "id": "0db84628",
   "metadata": {},
   "outputs": [
    {
     "name": "stdout",
     "output_type": "stream",
     "text": [
      "✅ Configurações carregadas de: ../configs/settings.json\n",
      "📥 Carregando arquivo: data/raw/dados_bcb_20250718_233936.parquet\n",
      "✅ Dados processados salvos em: data/processed/dados_contextualizados.csv\n",
      "        data                                           contexto\n",
      "0 1980-02-01  No mês de fevereiro de 1980, o valor da série ...\n",
      "1 1980-03-01  No mês de março de 1980, o valor da série era ...\n",
      "2 1980-04-01  No mês de abril de 1980, o valor da série era ...\n",
      "3 1980-05-01  No mês de maio de 1980, o valor da série era R...\n",
      "4 1980-06-01  No mês de junho de 1980, o valor da série era ...\n"
     ]
    }
   ],
   "source": [
    "import pandas as pd\n",
    "from pathlib import Path\n",
    "from datetime import datetime\n",
    "import sys\n",
    "import json\n",
    "import os\n",
    "import locale\n",
    "\n",
    "sys.path.append('../scripts')\n",
    "from utils import ensure_path_exists\n",
    "\n",
    "# Função para carregar configurações\n",
    "def load_settings(settings_file='../configs/settings.json'):\n",
    "    \"\"\"Carrega configurações de um arquivo JSON\"\"\"\n",
    "    try:\n",
    "        if os.path.exists(settings_file):\n",
    "            with open(settings_file, 'r', encoding='utf-8') as f:\n",
    "                settings = json.load(f)\n",
    "                print(f\"✅ Configurações carregadas de: {settings_file}\")\n",
    "                return settings\n",
    "        else:\n",
    "            print(f\"⚠️ Arquivo {settings_file} não encontrado, usando configurações padrão\")\n",
    "            return {\n",
    "                \"api_url\": \"https://api.bcb.gov.br/dados/serie/bcdata.sjson?serie=12\",\n",
    "                \"raw_data_path\": \"./data/raw/\"\n",
    "            }\n",
    "    except Exception as e:\n",
    "        print(f\"❌ Erro ao carregar configurações: {e}\")\n",
    "        return {\n",
    "            \"api_url\": \"https://api.bcb.gov.br/dados/serie/bcdata.sjson?serie=12\",\n",
    "            \"raw_data_path\": \"./data/raw/\"\n",
    "        }\n",
    "\n",
    "# Carrega configurações\n",
    "settings = load_settings()\n",
    "RAW_DATA_PATH = Path(settings[\"raw_data_path\"])\n",
    "PROCESSED_PATH = Path(settings[\"processed_data_path\"])\n",
    "ensure_path_exists(PROCESSED_PATH)\n",
    "\n",
    "# Encontra o último arquivo parquet salvo\n",
    "parquet_files = sorted(RAW_DATA_PATH.glob(\"*.parquet\"), reverse=True)\n",
    "if not parquet_files:\n",
    "    raise FileNotFoundError(\"Nenhum arquivo .parquet encontrado em data/raw\")\n",
    "file_path = parquet_files[0]\n",
    "print(f\"📥 Carregando arquivo: {file_path}\")\n",
    "\n",
    "# Lê o arquivo parquet\n",
    "df = pd.read_parquet(file_path)\n",
    "df['data'] = pd.to_datetime(df['data'])\n",
    "\n",
    "# Limpeza e normalização\n",
    "df = df.dropna()\n",
    "df['valor'] = df['valor'].astype(int)\n",
    "\n",
    "# Gera texto com contexto por linha\n",
    "def gerar_contexto(row):\n",
    "    locale.setlocale(locale.LC_TIME, 'pt_BR.UTF-8')\n",
    "    data_formatada = row['data'].strftime(\"%B de %Y\")  # Ex: março de 2005\n",
    "    valor_formatado = f\"R$ {row['valor'] / 100:.2f}\".replace('.', ',')\n",
    "    return f\"No mês de {data_formatada}, o valor da série era {valor_formatado}.\"\n",
    "\n",
    "df['contexto'] = df.apply(gerar_contexto, axis=1)\n",
    "\n",
    "# Salva os textos como CSV para vetorização posterior\n",
    "output_file = PROCESSED_PATH / \"dados_contextualizados.csv\"\n",
    "df[['data', 'valor', 'contexto']].to_csv(output_file, index=False)\n",
    "\n",
    "print(f\"✅ Dados processados salvos em: {output_file}\")\n",
    "print(df[['data', 'contexto']].head())\n"
   ]
  }
 ],
 "metadata": {
  "kernelspec": {
   "display_name": ".venv",
   "language": "python",
   "name": "python3"
  },
  "language_info": {
   "codemirror_mode": {
    "name": "ipython",
    "version": 3
   },
   "file_extension": ".py",
   "mimetype": "text/x-python",
   "name": "python",
   "nbconvert_exporter": "python",
   "pygments_lexer": "ipython3",
   "version": "3.11.13"
  }
 },
 "nbformat": 4,
 "nbformat_minor": 5
}
